{
  "nbformat": 4,
  "nbformat_minor": 0,
  "metadata": {
    "colab": {
      "provenance": [],
      "authorship_tag": "ABX9TyM6NWvs1cvOkzitdT2aC44J",
      "include_colab_link": true
    },
    "kernelspec": {
      "name": "python3",
      "display_name": "Python 3"
    },
    "language_info": {
      "name": "python"
    }
  },
  "cells": [
    {
      "cell_type": "markdown",
      "metadata": {
        "id": "view-in-github",
        "colab_type": "text"
      },
      "source": [
        "<a href=\"https://colab.research.google.com/github/ClementeGarcia/Optimizaci-n-no-lineal/blob/main/Random_Jumping.ipynb\" target=\"_parent\"><img src=\"https://colab.research.google.com/assets/colab-badge.svg\" alt=\"Open In Colab\"/></a>"
      ]
    },
    {
      "cell_type": "markdown",
      "source": [
        "# Método Random Jumping\n",
        "\n",
        "Aunque el problema no tiene restricciones, establecemos límites $l_i $ y $ u_i $ para cada variable de diseño $ x_i$, $ i = 1, 2, \\ldots, n $, para generar valores aleatorios de $ x_i $:\n",
        "\n",
        "$$ l_i \\leq x_i \\leq u_i, \\quad i = 1, 2, \\ldots, n $$\n",
        "\n",
        "En el método de salto aleatorio, generamos conjuntos de $n$ números aleatorios, $(r_1, r_2, \\ldots, r_n)$, distribuidos uniformemente entre 0 y 1. Cada conjunto de estos números se utiliza para encontrar un punto $ X $ dentro del hipercubo definido por las ecuaciones:\n",
        "\n",
        "$$ X =\n",
        "\\begin{cases}\n",
        "x_1 & \\\\\n",
        "x_2 & \\\\\n",
        "\\vdots & \\\\\n",
        "x_n &\n",
        "\\end{cases}\n",
        "=\n",
        "\\begin{cases}\n",
        "l_1 + r_1(u_1 - l_1) & \\\\\n",
        "l_2 + r_2(u_2 - l_2) & \\\\\n",
        "\\vdots & \\\\\n",
        "l_n + r_n(u_n - l_n) &\n",
        "\\end{cases} $$\n",
        "\n",
        "y se evalúa el valor de la función en este punto $ X $. Al generar un gran número de puntos aleatorios $ X $ y evaluar el valor de la función objetivo en cada uno de estos puntos, podemos tomar el menor valor de $ f(X) $ como el punto mínimo deseado.\n"
      ],
      "metadata": {
        "id": "GZjIPhGJhRI2"
      }
    },
    {
      "cell_type": "markdown",
      "source": [
        "Considere el problema:\n",
        "\n",
        "Minimizar $$f = x_1 - x_2 + 2x_1^2 + 2x_1x_2 + x_2^2 $$\n",
        "\n",
        "Encuentre la solución de este problema en el rango $-10 \\leq x_i \\leq 10$, $i = 1, 2$, utilizando el método de salto aleatorio. Use un máximo de 10,000 evaluaciones de la función."
      ],
      "metadata": {
        "id": "fDx-yZEFjQju"
      }
    },
    {
      "cell_type": "code",
      "execution_count": 4,
      "metadata": {
        "colab": {
          "base_uri": "https://localhost:8080/"
        },
        "id": "uUo_yaNtgim5",
        "outputId": "d35d5f51-cd0d-421b-d7d9-215f1d768a6f"
      },
      "outputs": [
        {
          "output_type": "stream",
          "name": "stdout",
          "text": [
            "Solución:\n",
            "x1 = -0.973627, x2 = 1.414507\n",
            "Valor mínimo de f = -1.245809\n"
          ]
        }
      ],
      "source": [
        "import random\n",
        "\n",
        "def f(x1, x2):\n",
        "    return x1 - x2 + 2*x1**2 + 2*x1*x2 + x2**2\n",
        "l1, u1 = -10, 10\n",
        "l2, u2 = -10, 10\n",
        "\n",
        "min_f = float('inf')\n",
        "best_x1, best_x2 = 0, 0\n",
        "for _ in range(10000):\n",
        "    r1 = random.random()\n",
        "    r2 = random.random()\n",
        "    x1 = l1 + r1 * (u1 - l1)\n",
        "    x2 = l2 + r2 * (u2 - l2)\n",
        "    current_f = f(x1, x2)\n",
        "    if current_f < min_f:\n",
        "        min_f = current_f\n",
        "        best_x1 = x1\n",
        "        best_x2 = x2\n",
        "print(f\"Solución:\")\n",
        "print(f\"x1 = {best_x1:.6f}, x2 = {best_x2:.6f}\")\n",
        "print(f\"Valor mínimo de f = {min_f:.6f}\")"
      ]
    }
  ]
}